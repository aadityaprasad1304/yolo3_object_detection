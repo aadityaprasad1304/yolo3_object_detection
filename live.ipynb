{
 "cells": [
  {
   "cell_type": "markdown",
   "id": "ed46b96d-cb5b-49ec-8994-0178069bc4f2",
   "metadata": {},
   "source": [
    "Imports libaries"
   ]
  },
  {
   "cell_type": "code",
   "execution_count": 1,
   "id": "479242cd-db7d-476c-be8c-44be5742a4be",
   "metadata": {
    "tags": []
   },
   "outputs": [],
   "source": [
    "import cv2\n",
    "import numpy as np"
   ]
  },
  {
   "cell_type": "markdown",
   "id": "5116d403-babc-4a1e-939c-9ab2f7ca2d0f",
   "metadata": {},
   "source": [
    "Loading YOLO Model"
   ]
  },
  {
   "cell_type": "code",
   "execution_count": 2,
   "id": "4c412b61-199d-465b-a698-0f35e85079a0",
   "metadata": {
    "tags": []
   },
   "outputs": [],
   "source": [
    "# Load YOLO file/\n",
    "net = cv2.dnn.readNet(\"yolov3.weights\", \"yolov3.cfg\")\n",
    "classes = []"
   ]
  },
  {
   "cell_type": "markdown",
   "id": "a87fe247-b023-4f82-acd6-64e8c3055809",
   "metadata": {},
   "source": [
    "Loading class names and initializing camera"
   ]
  },
  {
   "cell_type": "code",
   "execution_count": 3,
   "id": "3e3e5a3d-52cc-4131-908f-bd341d94f623",
   "metadata": {
    "tags": []
   },
   "outputs": [],
   "source": [
    "# Load class names from coco file\n",
    "with open(\"coco.names\", \"r\") as f:\n",
    "    classes = f.read().strip().split(\"\\n\")\n",
    "\n",
    "# Load video from the default camera.\n",
    "cap = cv2.VideoCapture(0)\n",
    "\n",
    "while True:\n",
    "    ret, frame = cap.read()\n",
    "    if not ret:\n",
    "        break\n",
    "\n",
    "    # Convert the frame to a blob that YOLO can process\n",
    "    blob = cv2.dnn.blobFromImage(frame, 0.00392, (416, 416), (0, 0, 0), True, crop=False)\n",
    "    net.setInput(blob) # Set the input blob for the neural network\n",
    "    outs = net.forward(net.getUnconnectedOutLayersNames()) # Forward pass the input blob through the network to get detections\n",
    "\n",
    "    # Process YOLO output\n",
    "    for out in outs:\n",
    "        for detection in out:\n",
    "            scores = detection[5:]\n",
    "            class_id = np.argmax(scores)\n",
    "            confidence = scores[class_id]\n",
    "            if confidence > 0.5: # Filter detections by confidence threshold\n",
    "                center_x = int(detection[0] * frame.shape[1])\n",
    "                center_y = int(detection[1] * frame.shape[0])\n",
    "                width = int(detection[2] * frame.shape[1])\n",
    "                height = int(detection[3] * frame.shape[0])\n",
    "\n",
    "                x = int(center_x - width / 2)\n",
    "                y = int(center_y - height / 2)\n",
    "\n",
    "                # Draw box and label on the frame\n",
    "                cv2.rectangle(frame, (x, y), (x + width, y + height), (0, 255, 0), 2)\n",
    "                label = f\"{classes[class_id]}: {confidence:.2f}\"\n",
    "                cv2.putText(frame, label, (x, y - 10), cv2.FONT_HERSHEY_SIMPLEX, 0.5, (0, 255, 0), 2)\n",
    "\n",
    "    # Display the frame with detections\n",
    "    cv2.imshow(\"Live Analysis\", frame)\n",
    "    if cv2.waitKey(1) & 0xFF == ord('q'): # Quit if 'q' key is pressed.\n",
    "        break\n",
    "\n",
    "cap.release()\n",
    "cv2.destroyAllWindows()"
   ]
  },
  {
   "cell_type": "code",
   "execution_count": null,
   "id": "b3ac57c0-5cf2-49ed-9d2f-4535ca5e4a83",
   "metadata": {},
   "outputs": [],
   "source": []
  }
 ],
 "metadata": {
  "kernelspec": {
   "display_name": "Python 3 (ipykernel)",
   "language": "python",
   "name": "python3"
  },
  "language_info": {
   "codemirror_mode": {
    "name": "ipython",
    "version": 3
   },
   "file_extension": ".py",
   "mimetype": "text/x-python",
   "name": "python",
   "nbconvert_exporter": "python",
   "pygments_lexer": "ipython3",
   "version": "3.11.4"
  }
 },
 "nbformat": 4,
 "nbformat_minor": 5
}
